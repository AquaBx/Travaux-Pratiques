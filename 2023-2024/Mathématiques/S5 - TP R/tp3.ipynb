{
 "cells": [
  {
   "cell_type": "code",
   "execution_count": 9,
   "metadata": {
    "vscode": {
     "languageId": "r"
    }
   },
   "outputs": [
    {
     "name": "stderr",
     "output_type": "stream",
     "text": [
      "Warning message in file(file, \"rt\"):\n",
      "“cannot open file 'C:/Users/Surface%20Pro%20X/OneDrive/Bureau/TD-TP/TP%20R/td3ex1_100.txt': No such file or directory”\n"
     ]
    },
    {
     "ename": "ERROR",
     "evalue": "Error in file(file, \"rt\"): cannot open the connection\n",
     "output_type": "error",
     "traceback": [
      "Error in file(file, \"rt\"): cannot open the connection\nTraceback:\n",
      "1. read.table(\"C:/Users/Surface%20Pro%20X/OneDrive/Bureau/TD-TP/TP%20R/td3ex1_100.txt\", \n .     header = T, dec = \".\")",
      "2. file(file, \"rt\")"
     ]
    }
   ],
   "source": [
    "v<-read.table(\"C:/Users/Surface%20Pro%20X/OneDrive/Bureau/TD-TP/TP%20R/td3ex1_100.txt\",header=T,dec=\".\")"
   ]
  },
  {
   "cell_type": "markdown",
   "metadata": {},
   "source": []
  },
  {
   "cell_type": "code",
   "execution_count": 7,
   "metadata": {
    "vscode": {
     "languageId": "r"
    }
   },
   "outputs": [
    {
     "ename": "ERROR",
     "evalue": "Error in eval(expr, envir, enclos): object 'v' not found\n",
     "output_type": "error",
     "traceback": [
      "Error in eval(expr, envir, enclos): object 'v' not found\nTraceback:\n",
      "1. mean(v[, 1])"
     ]
    }
   ],
   "source": [
    "\n",
    "mean(v[,1]) # 1.550396\n",
    "\n",
    "\n",
    "# H0 : mu = 1.5 \n",
    "# H1 : mu != 1.5 \n",
    "\n",
    "t.test(v,conf.level=0.95, mu=1.5)\n",
    "\n",
    "# p-value c'est notre tolérence de rejet, si p-value < rejet, on rejette\n",
    "# ici la confiance est à 5% = 0.05\n",
    "\n",
    "# ici on rejettte pas , p-value = 0.2999 > 0.05\n",
    "\n",
    "v<-read.table(\"td3ex1_1000.txt\",header=T,dec=\".\")\n",
    "t.test(v,conf.level=0.95, mu=1.5)\n",
    "\n",
    "# ici on rejettte , p-value = 0.001926 < 0.05"
   ]
  }
 ],
 "metadata": {
  "kernelspec": {
   "display_name": "R",
   "language": "R",
   "name": "ir"
  },
  "language_info": {
   "codemirror_mode": "r",
   "file_extension": ".r",
   "mimetype": "text/x-r-source",
   "name": "R",
   "pygments_lexer": "r",
   "version": "4.3.1"
  }
 },
 "nbformat": 4,
 "nbformat_minor": 2
}
